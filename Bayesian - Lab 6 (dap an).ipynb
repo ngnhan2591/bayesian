{
 "cells": [
  {
   "cell_type": "markdown",
   "metadata": {},
   "source": [
    "# Phân tích dữ liệu Bayesian 2022. LAB 6.\n",
    "## Phân phối kết hợp."
   ]
  },
  {
   "cell_type": "markdown",
   "metadata": {},
   "source": [
    "Nếu tiên nghiệm kết hợp có các tỷ lệ là $a_1, a_2, ..., a_m$ thì tiên nghiệm $\\theta$ sẽ có:\n",
    "\n",
    "$$E(\\theta) = \\sum_{i=1}^m a_i E_j(\\theta),$$\n",
    "$$Var(\\theta) = E(\\theta^2) - E(\\theta)^2 = \\sum_{i=1}^m a_i (Var_j(\\theta)+E_j(\\theta)^2) - E(\\theta)^2.$$"
   ]
  },
  {
   "cell_type": "markdown",
   "metadata": {},
   "source": [
    "**Bài 1.** Cho phân phối tiên nghiệm $X$ hỗn hợp gồm: \n",
    "- $45\\%$ phân phối chuẩn $N(1.4, 0.4^2).$\n",
    "- $55\\%$ phân phối chuẩn $N(2.1, 0.5^2).$\n",
    "\n",
    "Xác định phân phối tiên nghiệm của $X$, bao gồm cả kỳ vọng lẫn phương sai."
   ]
  },
  {
   "cell_type": "markdown",
   "metadata": {},
   "source": [
    "**Lời giải.** Công thức của tiên nghiệm \n",
    "$$X \\sim 0.45 N(1.4, 0.4^2) + 0.55 N(2.1, 0.5^2).$$\n",
    "\n",
    "Kỳ vọng $E(\\theta) = $ $1.785$\n",
    "\n",
    "Phương sai $Var(\\theta) = $ $0.3307$"
   ]
  },
  {
   "cell_type": "code",
   "execution_count": 4,
   "metadata": {},
   "outputs": [
    {
     "data": {
      "text/plain": [
       "(1.7850000000000001, 0.3307749999999996)"
      ]
     },
     "execution_count": 4,
     "metadata": {},
     "output_type": "execute_result"
    }
   ],
   "source": [
    "#CODE HERE\n",
    "E = 0.45*1.4 + 0.55*2.1\n",
    "Var = 0.45*(0.4*0.4 + 1.4*1.4) + 0.55*(0.5*0.5+2.1*2.1) - E*E\n",
    "(E,Var)"
   ]
  },
  {
   "cell_type": "markdown",
   "metadata": {},
   "source": [
    "**Bài 2.** Cho dữ liệu $n=50$ item và $x=36.$ Giả sử likelihood $X|\\theta \\sim Binomial(x, \\theta).$ Tiên nghiệm gồm hai thành phần $\\theta \\sim Beta(20,30)$ và $\\theta \\sim Beta(40,50)$ với tỷ lệ lần lượt là $40\\%, 60\\%.$\n",
    "Hãy điền vào đoạn code bên dưới để hoàn thành việc xác định phân phối hậu nghiệm $\\theta|x.$"
   ]
  },
  {
   "cell_type": "markdown",
   "metadata": {},
   "source": [
    "Công thức cho hậu nghiệm, biết các tiên nghiệm thành phần có trọng số $a_1, a_2, ..., a_m$: $$p(\\theta|X) = \\frac{\\sum_{i=1}^m  a_i c_i \\cdot p_i(\\theta|X)}{\\sum a_i c_i},$$\n",
    "trong đó $c_i = \\int likelihood \\times \\pi_i (\\theta),$ tích phân xét trên miền xác định của $\\theta$."
   ]
  },
  {
   "cell_type": "code",
   "execution_count": 6,
   "metadata": {},
   "outputs": [],
   "source": [
    "import math\n",
    "import scipy.special\n",
    "from sympy import *"
   ]
  },
  {
   "cell_type": "markdown",
   "metadata": {},
   "source": [
    "* Xác định hệ số $c_1$ (điền số vào chỗ trống)\n",
    "\n",
    "Likelihood là: $C_n^x \\times \\theta^x (1-\\theta)^{n-x} =$ $C_{50}^{36} \\times \\theta^{36} (1-\\theta)^{14}$ \n",
    "\n",
    "Tiên nghiệm thứ nhất: $\\frac{\\Gamma(a+b)}{\\Gamma(a)\\Gamma(b)} \\times \\theta^{a-1} (1-\\theta)^{b-1}$ = $\\frac{\\Gamma(50)}{\\Gamma(20)\\Gamma(30)} \\times \\theta^{19} (1-\\theta)^{29}$"
   ]
  },
  {
   "cell_type": "markdown",
   "metadata": {},
   "source": [
    "Số mũ của $\\theta$ trong tích likelihood $\\times$ tiên nghiệm là: $a-1+x =$ $55$\n",
    "\n",
    "Số mũ của $1-\\theta$ trong tích likelihood $\\times$ tiên nghiệm là: $b-1+n-x =$ $43$"
   ]
  },
  {
   "cell_type": "markdown",
   "metadata": {},
   "source": [
    "* Xác định hệ số $c_2$ (điền số vào chỗ trống)\n",
    "\n",
    "Tiên nghiệm thứ hai: $\\frac{\\Gamma(a+b)}{\\Gamma(a)\\Gamma(b)} \\times \\theta^{a-1} (1-\\theta)^{b-1}$ = $\\frac{\\Gamma(90)}{\\Gamma(40)\\Gamma(50)} \\times \\theta^{39} (1-\\theta)^{49}$"
   ]
  },
  {
   "cell_type": "markdown",
   "metadata": {},
   "source": [
    "Số mũ của $\\theta$ trong tích likelihood $\\times$ tiên nghiệm là: $a-1+x =$ $75$\n",
    "\n",
    "Số mũ của $1-\\theta$ trong tích likelihood $\\times$ tiên nghiệm là: $b-1+n-x =$ $63$"
   ]
  },
  {
   "cell_type": "code",
   "execution_count": 8,
   "metadata": {},
   "outputs": [
    {
     "data": {
      "text/latex": [
       "$\\displaystyle 0.000435939804665499$"
      ],
      "text/plain": [
       "0.000435939804665499"
      ]
     },
     "execution_count": 8,
     "metadata": {},
     "output_type": "execute_result"
    }
   ],
   "source": [
    "#Xác định hệ số c1\n",
    "com1 = scipy.special.comb(50,36,exact=True)\n",
    "gam1 = math.gamma(50)/(math.gamma(20)*gamma(30))\n",
    "x = symbols('x')\n",
    "f1 = (x ** 55) * ((1-x) ** 43)\n",
    "tp1 = integrate(f1, (x,0,1))\n",
    "c1 = tp1 * com1 * gam1"
   ]
  },
  {
   "cell_type": "code",
   "execution_count": 10,
   "metadata": {},
   "outputs": [
    {
     "data": {
      "text/latex": [
       "$\\displaystyle 0.000638265545625684$"
      ],
      "text/plain": [
       "0.000638265545625684"
      ]
     },
     "execution_count": 10,
     "metadata": {},
     "output_type": "execute_result"
    }
   ],
   "source": [
    "#Xác định hệ số c2.\n",
    "com2 = scipy.special.comb(50,36,exact=True)\n",
    "gam2 = math.gamma(90)/(math.gamma(40)*gamma(50))\n",
    "x = symbols('x')\n",
    "f2 = (x ** 75) * ((1-x) ** 63)\n",
    "tp2 = integrate(f2, (x,0,1))\n",
    "c2 = tp2 * com2 * gam2"
   ]
  },
  {
   "cell_type": "code",
   "execution_count": 13,
   "metadata": {},
   "outputs": [
    {
     "data": {
      "text/plain": [
       "(0.312874382346138, 0.687125617653862)"
      ]
     },
     "execution_count": 13,
     "metadata": {},
     "output_type": "execute_result"
    }
   ],
   "source": [
    "#Xác định hệ số a1' = (a1.c1) / (a1.c1+a2.c2), a2' = (a2.c2) / (a1.c1+a2.c2)\n",
    "(a1, a2) = (0.4, 0.6)\n",
    "a_1 = (c1*a1) / (c1*a1+c2*a2)\n",
    "a_2 = (c2*a2) / (c1*a1+c2*a2)\n",
    "(a_1, a_2)"
   ]
  },
  {
   "cell_type": "code",
   "execution_count": 19,
   "metadata": {},
   "outputs": [],
   "source": [
    "#Hậu nghiệm thứ nhất\n",
    "from scipy.stats import gamma\n",
    "from scipy.stats import beta\n",
    "(a1, b1) = (56, 44) #20 + 36, 30 + 14\n",
    "r1 = beta(a1, b1)\n",
    "m1 = r1.mean()\n",
    "v1 = r1.var()"
   ]
  },
  {
   "cell_type": "code",
   "execution_count": 18,
   "metadata": {},
   "outputs": [],
   "source": [
    "#Hậu nghiệm thứ hai\n",
    "(a2, b2) = (76, 64) #40+36, 50+14\n",
    "r2 = beta(a2, b2)\n",
    "m2 = r2.mean()\n",
    "v2 = r2.var()"
   ]
  },
  {
   "cell_type": "code",
   "execution_count": 21,
   "metadata": {},
   "outputs": [
    {
     "data": {
      "text/plain": [
       "(0.548220703697362, 0.00203582555431514)"
      ]
     },
     "execution_count": 21,
     "metadata": {},
     "output_type": "execute_result"
    }
   ],
   "source": [
    "#Kỳ vọng, phương sai của hậu nghiệm\n",
    "E = a_1 * m1 + a_2 * m2\n",
    "Var = a_1 * (v1+m1*m1) + a_2 * (v2+m2*m2) - E*E\n",
    "(E,Var)"
   ]
  },
  {
   "cell_type": "markdown",
   "metadata": {},
   "source": [
    "**Bài 3.** Cho mẫu data kích thước $15$ với cùng phân phối mũ $X|\\theta \\sim Exp(\\theta)$ và có trung bình mẫu $\\overline{x} = 3.$ Giả sử tiên nghiệm hỗn hợp cho $\\theta$ gồm $$0.6 \\times Gamma(7,8) + 0.4 \\times Gamma(10,9).$$\n",
    "Xác định hệ số của các hậu nghiệm thành phần."
   ]
  },
  {
   "cell_type": "markdown",
   "metadata": {},
   "source": [
    "* Xác định hệ số $c_1$ (điền số vào chỗ trống)\n",
    "\n",
    "Likelihood là: $(\\theta e^{-\\theta \\cdot \\overline{x}})^{15} = $ $\\theta^{15} e^{-45 \\theta}$ \n",
    "\n",
    "Tiên nghiệm thứ nhất: $\\frac{v^u}{\\Gamma(u)} \\times \\theta^{u-1} e^{-v \\theta}$ = $\\frac{8^7}{\\Gamma(7)} \\times \\theta^{6} e^{-8 \\theta}$"
   ]
  },
  {
   "cell_type": "markdown",
   "metadata": {},
   "source": [
    "Số mũ của $\\theta$ trong tích likelihood $\\times$ tiên nghiệm là: $15+6=21$\n",
    "\n",
    "Số mũ của $e$ trong tích likelihood $\\times$ tiên nghiệm là: $-45\\theta - 8\\theta = -53 \\theta$"
   ]
  },
  {
   "cell_type": "markdown",
   "metadata": {},
   "source": [
    "* Xác định hệ số $c_2$ (điền số vào chỗ trống)\n",
    "\n",
    "Tiên nghiệm thứ hai: $\\frac{v^u}{\\Gamma(u)} \\times \\theta^{u-1} e^{-v \\theta}$ = $\\frac{9^{10}}{\\Gamma(9)} \\times \\theta^{9} e^{-9 \\theta}$"
   ]
  },
  {
   "cell_type": "markdown",
   "metadata": {},
   "source": [
    "Số mũ của $\\theta$ trong tích likelihood $\\times$ tiên nghiệm là: $15+9=24$\n",
    "\n",
    "Số mũ của $e$ trong tích likelihood $\\times$ tiên nghiệm là: $-45\\theta - 9\\theta = -54 \\theta$"
   ]
  },
  {
   "cell_type": "code",
   "execution_count": 31,
   "metadata": {},
   "outputs": [
    {
     "data": {
      "text/latex": [
       "$\\displaystyle 0.00162443958568453$"
      ],
      "text/plain": [
       "0.00162443958568453"
      ]
     },
     "execution_count": 31,
     "metadata": {},
     "output_type": "execute_result"
    }
   ],
   "source": [
    "#Xác định hệ số c1\n",
    "gam1 = 8**7/math.gamma(7)\n",
    "x = symbols('x')\n",
    "f1 = (x ** 21) * exp(-53*x)\n",
    "tp1 = integrate(f1, (x,0,math.inf))\n",
    "c1 = tp1 * com1 * gam1\n",
    "c1"
   ]
  },
  {
   "cell_type": "code",
   "execution_count": 32,
   "metadata": {},
   "outputs": [
    {
     "data": {
      "text/latex": [
       "$\\displaystyle 0.00246545804694948$"
      ],
      "text/plain": [
       "0.00246545804694948"
      ]
     },
     "execution_count": 32,
     "metadata": {},
     "output_type": "execute_result"
    }
   ],
   "source": [
    "#Xác định hệ số c2\n",
    "gam2 = 9**10/math.gamma(9)\n",
    "x = symbols('x')\n",
    "f2 = (x ** 24) * exp(-54*x)\n",
    "tp2 = integrate(f2, (x,0,math.inf))\n",
    "c2 = tp2 * com2 * gam2\n",
    "c2"
   ]
  },
  {
   "cell_type": "code",
   "execution_count": 33,
   "metadata": {},
   "outputs": [
    {
     "data": {
      "text/plain": [
       "(0.326821500087853, 0.673178499912147)"
      ]
     },
     "execution_count": 33,
     "metadata": {},
     "output_type": "execute_result"
    }
   ],
   "source": [
    "#Xác định hệ số a1' = (a1.c1) / (a1.c1+a2.c2), a2' = (a2.c2) / (a1.c1+a2.c2)\n",
    "a_1 = (c1*a1) / (c1*a1+c2*a2)\n",
    "a_2 = (c2*a2) / (c1*a1+c2*a2)\n",
    "(a_1, a_2)"
   ]
  }
 ],
 "metadata": {
  "kernelspec": {
   "display_name": "Python 3",
   "language": "python",
   "name": "python3"
  },
  "language_info": {
   "codemirror_mode": {
    "name": "ipython",
    "version": 3
   },
   "file_extension": ".py",
   "mimetype": "text/x-python",
   "name": "python",
   "nbconvert_exporter": "python",
   "pygments_lexer": "ipython3",
   "version": "3.8.5"
  }
 },
 "nbformat": 4,
 "nbformat_minor": 5
}
