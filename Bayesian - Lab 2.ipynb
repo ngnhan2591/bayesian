{
 "cells": [
  {
   "cell_type": "markdown",
   "id": "5e303550",
   "metadata": {},
   "source": [
    "# Phân tích dữ liệu Bayesian 2022. LAB 2.\n",
    "## Bài toán ước lượng điểm & khoảng"
   ]
  },
  {
   "cell_type": "markdown",
   "id": "2818127d",
   "metadata": {},
   "source": [
    "## 0. Bổ sung về tích phân hai lớp và tính đạo hàm"
   ]
  },
  {
   "cell_type": "markdown",
   "id": "f7aae500",
   "metadata": {},
   "source": [
    "**Ví dụ 1.** Xét tích phân $I=\\int\\limits_{0}^{3}{\\int\\limits_{0}^{2}{(3{{x}^{2}}-y)dxdy}}$. Cách đơn giản nhất để tính lần lượt theo từng biến, xong biến này đến biến kia (chú ý rằng theo một định lý của Giải tích thì ta tính theo biến $x$ trước hay $y$ trước đều được). Hãy kiểm tra bằng code bên dưới:"
   ]
  },
  {
   "cell_type": "code",
   "execution_count": null,
   "id": "c3268484",
   "metadata": {},
   "outputs": [],
   "source": [
    "from sympy import *\n",
    "x, y = symbols('x y')\n",
    "f = (3*x*x - y)\n",
    "tp1 = integrate(f, (y,0,3), (x,0,2))\n",
    "tp2 = integrate(f, (x,0,2), (y,0,3))\n",
    "tp1, tp2"
   ]
  },
  {
   "cell_type": "markdown",
   "id": "7bdfa92d",
   "metadata": {},
   "source": [
    "**Ví dụ 2.** Một dạng khác là vùng giới hạn của biến này được tính toán theo biến kia. Chẳng hạn $1 < x \\le y$. Ta xét tích phân sau đây $$I=\\int\\limits_{1}^{+\\infty}{\\int\\limits_{1}^{y}{\\frac{{x}}{y^4}dxdy}}.$$ Hãy kiểm tra bằng code sau:"
   ]
  },
  {
   "cell_type": "code",
   "execution_count": null,
   "id": "491f4fa4",
   "metadata": {},
   "outputs": [],
   "source": [
    "from sympy import *\n",
    "import math\n",
    "x, y = symbols('x y')\n",
    "f = x / (y*y*y*y)\n",
    "tp = integrate(f, (x,1,y), (y,1,math.inf))\n",
    "tp"
   ]
  },
  {
   "cell_type": "markdown",
   "id": "0297ad1c",
   "metadata": {},
   "source": [
    "**Ví dụ 3.** Xét hàm số sau $f(x) = x^3 - 3x^2.$ Ta muốn tìm giá trị lớn nhất và nhỏ nhất của nó trên $[-1;4].$ Hãy kiểm tra bằng code sau:"
   ]
  },
  {
   "cell_type": "code",
   "execution_count": null,
   "id": "e979fbf4",
   "metadata": {},
   "outputs": [],
   "source": [
    "from sympy import *\n",
    "import math\n",
    "x = symbols('x')\n",
    "f = x*x*x - 3*x*x\n",
    "dh = diff(f, x)\n",
    "solve(dh)"
   ]
  },
  {
   "cell_type": "markdown",
   "id": "4f78696b",
   "metadata": {},
   "source": [
    "Các thao tác tính đạo hàm ở trên cho ta điểm cực trị của $f(x)$. Ta chỉ cần thay giá trị vào và kiểm tra là được. "
   ]
  },
  {
   "cell_type": "markdown",
   "id": "33272e07",
   "metadata": {},
   "source": [
    "## 1. Các tính chất của các vector ngẫu nhiên liên tục"
   ]
  },
  {
   "cell_type": "markdown",
   "id": "cf0ab571",
   "metadata": {},
   "source": [
    "Trong trường hợp biến ngẫu nhiên liên tục, ta sẽ có\n",
    "* Hàm phân phối $f(x,y) = P(X=x, Y=y)$ có liên hệ với hàm phân phối tích lũy $F(x,y)$ là:\n",
    "$f(x,y)=\\frac{{{d}^{2}}}{dxdy}F(x,y)$ nếu tồn tại đạo hàm và $f(x,y)=0$ trong trường hợp ngược lại. \n",
    "\n",
    "* Xác suất riêng theo từng biến (còn gọi là lề) là: $f_X(x) = \\int_{-\\infty}^{+\\infty} f(x,y)dy$ và $f_Y(y) = \\int_{-\\infty}^{+\\infty} f(x,y)dy$ \n",
    "* Xác suất trong miền: $$P(a_1 < X < a_2, b_1 < Y < b_2) = \\int_{{{a}_{1}}}^{{{a}_{2}}}{\\int_{{{b}_{1}}}^{{{b}_{2}}}{f(x,y)dxdy}}.$$\n",
    "* Kỳ vọng có điều kiện: $$E[X|Y=y]=\\int_{-\\infty }^{+\\infty }{x{{f}_{X|Y}}(x|y)dx}$$ trong đó ${{f}_{X|Y}}(x|y)=\\frac{f(x,y)}{{{f}_{Y}}(y)}$. \n",
    "* Công thức LOTUS: $$E[g(X)|Y] = \\int_{-\\infty }^{+\\infty }{g(x){{f}_{X|Y}}(x|y)dx}$$\n",
    "* Phương sai có điều kiện: $$Var(X|Y) = E[X^2|A] - E[X|A]^2.$$"
   ]
  },
  {
   "cell_type": "markdown",
   "id": "dcc07cd2",
   "metadata": {},
   "source": [
    "Hai biến ngẫu nhiên $x,y$ là độc lập khi và chỉ khi $f(x,y) = f_X(x) \\cdot f_Y(y)$ với mọi $x,y.$ Như vậy để kiểm tra tính chất này, trước hết ta kiểm tra xác suất lề của từng biến. Bài toán Bayesian sẽ không còn ý nghĩa trong trường hợp này nữa."
   ]
  },
  {
   "cell_type": "markdown",
   "id": "dd1ab02b",
   "metadata": {},
   "source": [
    "Các bài tập sau để rèn luyện thêm kỹ năng, SV có thể làm sơ lược qua để ôn tập.\n",
    "\n",
    "**Bài 1.** Cho vector ngẫu nhiên $(X,Y)$ có hàm mật độ sau \n",
    "$$f(x,y)=\\left\\{ \\begin{aligned}\n",
    "  & C \\cdot e^{-x-y} \\text{  khi  }0<y<x \\\\ \n",
    " & 0\\text{ otherwise} \\\\ \n",
    "\\end{aligned} \\right.$$\n",
    "* a) Xác định $C$.\n",
    "* b) Tìm hàm mật độ lề $f_X(x), f_Y(y).$\n",
    "* c) Tính giá trị của $f(1,2), f(2,1)$ và xác suất có điều kiện $f_{X|Y=2},$ $f_{Y|X = 3}.$\n",
    "\n",
    "**Bài 2.** Cho vector ngẫu nhiên $(X,Y)$ có hàm mật độ như sau $$f(x,y)=\\left\\{ \\begin{aligned}\n",
    "  & \\frac{1}{2{{x}^{2}}y}\\text{    khi }x\\ge 1,\\text{ }\\frac{1}{x}\\le y\\le x. \\\\ \n",
    " & 0\\text{  otherwise} \\\\ \n",
    "\\end{aligned} \\right.$$\n",
    "* a) Xác định ${{f}_{X}}(x)$ và ${{f}_{Y}}(y).$ \n",
    "* b) Xác định ${{f}_{X|Y}}(x|y)$ và ${{f}_{Y|X}}(y|x)$.\n",
    "* c) Tính $E[X|Y=y]$ và $E[Y|X=x].$ \n",
    "* d) Tính $Var[X|Y].$"
   ]
  },
  {
   "cell_type": "markdown",
   "id": "0a287382",
   "metadata": {},
   "source": [
    "## 2. Bài toán xác định phân phối hậu nghiệm."
   ]
  },
  {
   "cell_type": "markdown",
   "id": "ab6dc6ae",
   "metadata": {},
   "source": [
    "**Bài 3.** Cho $X \\sim Uniform(0,1).$ Giả sử rằng likelihood $Y|X=x \\sim Binomial(4,x)$. Xác định phân phối hậu nghiệm của $X$ cho biết $Y=3.$"
   ]
  },
  {
   "cell_type": "markdown",
   "id": "9ae6e149",
   "metadata": {},
   "source": [
    "**Bài 4.** Cho $X \\sim N(0;1).$ Giả sử rằng $Y|X = x \\sim N(x,1).$ Chứng minh rằng phân phối của hậu nghiệm $f_{X|Y}(x|y)$ chính là $$N(y/2, 1/2).$$"
   ]
  },
  {
   "cell_type": "markdown",
   "id": "26558fc4",
   "metadata": {},
   "source": [
    "## 3. Bài toán MAP, ML, MSSE."
   ]
  },
  {
   "cell_type": "markdown",
   "id": "ef6dcdbb",
   "metadata": {},
   "source": [
    "Sử dụng các công thức đã biết liên quan đến MAP (maximum a posterior), ML (maximum likelihood), MSSE (minimum mean squared error), hãy giải quyết các bài toán sau."
   ]
  },
  {
   "cell_type": "markdown",
   "id": "a26a962f",
   "metadata": {},
   "source": [
    "**Bài 5.** Cho $X$ là biến ngẫu nhiên liên tục có hàm PDF là $$f_X(x) = \\left\\{ \\begin{aligned}\n",
    "  & 3x^2 \\text{  khi  } 0 \\le x \\le 1 \\\\ \n",
    " & 0 \\quad \\text{ khác} \\\\ \n",
    "\\end{aligned} \\right.$$\n",
    "Giả sử $Y|X = x \\sim Geometric(x)$.\n",
    "* a) Tìm ước lượng MAP cho $X$, biết rằng $Y=2.$\n",
    "* b) Tìm ML, cho biết $Y=4$."
   ]
  },
  {
   "cell_type": "markdown",
   "id": "29dc433c",
   "metadata": {},
   "source": [
    "**Bài 6.** Cho $X$ là biến ngẫu nhiên liên tục có hàm PDF là $$f_X(x) = \\left\\{ \\begin{aligned}\n",
    "  & 3x^2 \\text{  khi  } 0 \\le x \\le 1 \\\\ \n",
    " & 0 \\quad \\text{ khác} \\\\ \n",
    "\\end{aligned} \\right.$$\n",
    "Đồng thời giả sử $$f_{Y|X}(y|x) = \\left\\{ \\begin{aligned}\n",
    "  & kxy - 2x + 3 \\text{  khi  } 0 \\le y \\le 1 \\\\ \n",
    " & 0 \\quad \\text{ khác} \\\\ \n",
    "\\end{aligned} \\right.$$\n",
    "Tìm $k$ và xác định ước lượng MSSE cho $X$ với giá trị $Y$ cho trước."
   ]
  },
  {
   "cell_type": "markdown",
   "id": "39fbb84e",
   "metadata": {},
   "source": [
    "**Bài 7.** Cho tín hiệu $X \\sim N(0,4)$ được truyền trong một kênh thông tin liên lạc. Giả sử tín hiệu nhận được là $$Y = X+W$$ với $W$ là độ nhiễu, cũng đặc trưng cho sự phụ thuộc likelihood $Y|X$ và $W \\sim N(0,9)$, là phân phối độc lập với $X.$ Hãy xác định ước lượng ML và MAP của $X$, ứng với giá trị $Y = 10$."
   ]
  },
  {
   "cell_type": "markdown",
   "id": "5ce0a886",
   "metadata": {},
   "source": [
    "## 4. Bài toán ước lượng khoảng và tính chất hệ số tương quan."
   ]
  },
  {
   "cell_type": "markdown",
   "id": "ce94d773",
   "metadata": {},
   "source": [
    "Trước hết, ta ôn tập về tính chất của giá trị hiệp phương sai $Cov(X,Y)$. Hãy điền vào các chỗ trống sau:\n",
    "* 1) $Cov(X,Y) = E[XY] - E[X]E[Y]$. Từ đó suy ra $Cov(X,X) = ...$\n",
    "* 2) Nếu $X,Y$ độc lập thì $Cov(X,Y) = ...$\n",
    "* 3) $Cov(aX+b, Y) = ...$\n",
    "* 4) $Cov(X+Y,Z) = ...$\n",
    "* 5) Nếu $Z = X+Y$ thì $Var(Z) = ...$ từ đó thử tổng quát cho $Z = aX+bY.$"
   ]
  },
  {
   "cell_type": "markdown",
   "id": "58560e92",
   "metadata": {},
   "source": [
    "Tiếp theo là các tính chất của hệ số tương quan $\\rho(X,Y)$. Hãy điền vào các chỗ trống sau:\n",
    "\n",
    "Xét dạng chuẩn hóa của $X,Y$ là $U = \\frac{X-E[X])}{\\sigma_X}$ và $V = \\frac{Y-E[Y]}{\\sigma_Y}.$ Khi đó\n",
    "* 1) $\\rho(X,Y) = Cov(U,V) = ... = \\frac{Cov(X,Y)}{\\sigma_X \\sigma_Y}.$\n",
    "* 2) $... \\le \\rho(X,Y) \\le ...$\n",
    "* 3) $\\rho(X,Y) = ...$ thì $Y = aX+b$ với $a>0.$\n",
    "* 4) $\\rho(X,Y) = ...$ thì $Y = aX+b$ với $a<0.$\n",
    "* 5) $\\rho(aX+b,cY+d) = ...$"
   ]
  },
  {
   "attachments": {},
   "cell_type": "markdown",
   "id": "e7364b6b",
   "metadata": {},
   "source": [
    "Sử dụng các công thức sau đây (liên quan đến lý thuyết bivariate normal distribution)\n",
    "$$E[X|Y=y] = \\mu_X + \\rho \\sigma_X \\frac{y - \\mu_Y}{\\sigma_Y}, \\quad Var(X|Y=y) = (1-\\rho^2) \\sigma_X^2,$$\n",
    "hãy giải bài toán sau:"
   ]
  },
  {
   "cell_type": "markdown",
   "id": "c72baa06",
   "metadata": {},
   "source": [
    "**Bài 8.** Cho $X,Y$ là các phân phối chuẩn kết hợp với $X \\sim N(0,1),$ $Y \\sim N(2,9)$ và $\\rho(X,Y) = \\frac{1}{4}.$ \n",
    "* a) Xác định khoảng tin cận $95\\%$ của $X$, cho biết $Y=4.$\n",
    "* b) Tính $Cov(X+Y,2X-Y).$\n",
    "* c) Tính $P(2X+Y \\le 4).$"
   ]
  }
 ],
 "metadata": {
  "kernelspec": {
   "display_name": "Python 3",
   "language": "python",
   "name": "python3"
  },
  "language_info": {
   "codemirror_mode": {
    "name": "ipython",
    "version": 3
   },
   "file_extension": ".py",
   "mimetype": "text/x-python",
   "name": "python",
   "nbconvert_exporter": "python",
   "pygments_lexer": "ipython3",
   "version": "3.8.8"
  }
 },
 "nbformat": 4,
 "nbformat_minor": 5
}
