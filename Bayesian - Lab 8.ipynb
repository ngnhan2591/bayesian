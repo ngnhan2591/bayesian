{
 "cells": [
  {
   "cell_type": "markdown",
   "id": "109396bc",
   "metadata": {},
   "source": [
    "# Phân tích dữ liệu Bayesian 2022. LAB 7.\n",
    "## Hồi quy."
   ]
  },
  {
   "cell_type": "markdown",
   "id": "ea41421c",
   "metadata": {},
   "source": [
    "Chúng ta có 1 bảng dữ liệu về liên hệ giữa hai đại lượng $X$ và $Y$ với $25$ mẫu như bên dưới:\n",
    "\n",
    "| Chiều cao (cm)        | 14.36    | 14.48        | 14.53        | 14.52        | 14.35  | 14.31      | 14.44      | 14.23   | 14.32   |   14.57 | 14.28 | 14.36 | 14.50 | 14.52 | 14.28 | 14.13 |  14.54| 14.60 | 14.86 | 14.28 | 14.09 | 14.20 | 14.50 | 14.02 | 14.45 | \n",
    "| :-------------------: | :--------: | :--------: | :--------: | :--------: | :--------: | :--------: | :--------: | :--------: | :--------: | :--------: | :--------: | :--------: | :--------: | :--------: | :--------: | :--------: | :--------: | :--------: | :--------: | :--------: | :--------: | :--------: | :--------: | :--------: | :--------: |\n",
    "| **Cân nặng (kg)**     | **13.84** | **14.41**     | **14.22**     | **14.63**     | **13.95**     | **14.37**     | **14.1** | **13.99**   |   **13.99** | **14.59** | **14.32** | **14.31**     | **14.43**     | **14.44**    | **14.14** | **13.90** | **14.37** | **14.34** | **14.78** | **13.76** | **13.85** | **13.89** | **14.22** | **13.80** | **14.67** |\n",
    "\n",
    "Bài toán đặt ra là: liệu có thể dự đoán cân nặng của một người dựa vào chiều cao của họ không?"
   ]
  },
  {
   "cell_type": "code",
   "execution_count": 1,
   "id": "fade5904",
   "metadata": {},
   "outputs": [
    {
     "data": {
      "image/png": "[encoded data removed]",
      "text/plain": [
       "<Figure size 432x288 with 1 Axes>"
      ]
     },
     "metadata": {
      "needs_background": "light"
     },
     "output_type": "display_data"
    }
   ],
   "source": [
    "import numpy as np \n",
    "import matplotlib.pyplot as plt\n",
    "# height (cm)\n",
    "X = np.array([[14.36, 14.48, 14.53, 14.52, 14.35, 14.31, 14.44, 14.23, 14.32, 14.57, 14.28, 14.36, 14.50, 14.52, 14.28, 14.13, 14.54, 14.60, 14.86, 14.28, 14.09, 14.20, 14.50, 14.02, 14.45]]).T\n",
    "# weight (kg)\n",
    "Y = np.array([[13.84, 14.41, 14.22, 14.63, 13.95, 14.37, 14.41, 13.99, 13.89, 14.59, 14.32, 14.31, 14.43, 14.44, 14.14, 13.90, 14.37, 14.34, 14.78, 13.76, 13.85, 13.89, 14.22, 13.80, 14.67]]).T\n",
    "# Visualize data \n",
    "plt.plot(X, Y, 'ro')\n",
    "plt.axis([14, 15, 14.25, 14.75])\n",
    "plt.xlabel('Height (cm)')\n",
    "plt.ylabel('Weight (kg)')\n",
    "plt.show()"
   ]
  },
  {
   "cell_type": "code",
   "execution_count": 2,
   "id": "c9cd951f",
   "metadata": {},
   "outputs": [
    {
     "data": {
      "text/plain": [
       "(-4.479382559230933, 1.2996346157588499)"
      ]
     },
     "execution_count": 2,
     "metadata": {},
     "output_type": "execute_result"
    }
   ],
   "source": [
    "#cân nặng (Y) = b_1 * (chiều cao X) + b_0 \n",
    "#b_1 = slope, b_0 = intercept\n",
    "#b_1 = (phương sai của X.Y) / (phương sai của X^2) = (tổng X.Y - n.mean(X).mean(Y)) / (tổng X.X - n*mean(X)*mean(X))\n",
    "#b_0 = mean(Y) - b_1 * mean(X)\n",
    "n = np.size(X)\n",
    "m_x = np.mean(X)\n",
    "m_y = np.mean(Y)\n",
    "SS_xy = np.sum(Y*X) - n*m_y*m_x # tử số, trong đó sum(Y*X) = y1.x1 + y2.x2 + ... + yn.xn\n",
    "SS_xx = np.sum(X*X) - n*m_x*m_x # mẫu số, trong đó sum(X*X) = x1.x1 + x2.x2 + ... + xn.xn\n",
    "\n",
    "b_1 = SS_xy / SS_xx\n",
    "b_0 = m_y - b_1*m_x\n",
    "(b_0, b_1)"
   ]
  },
  {
   "cell_type": "code",
   "execution_count": 3,
   "id": "879b7a9a",
   "metadata": {},
   "outputs": [
    {
     "data": {
      "image/png": "[encoded data removed]",
      "text/plain": [
       "<Figure size 432x288 with 1 Axes>"
      ]
     },
     "metadata": {
      "needs_background": "light"
     },
     "output_type": "display_data"
    }
   ],
   "source": [
    "# Preparing the fitting line \n",
    "x0 = np.linspace(14, 15, 2, endpoint=True)\n",
    "y0 = b_0 + b_1*x0\n",
    "# Drawing the fitting line \n",
    "plt.plot(X.T, Y.T, 'ro')     # data \n",
    "plt.plot(x0, y0)             # the fitting line\n",
    "plt.axis([14, 15, 14.25, 14.75])\n",
    "plt.xlabel('Height (cm)')\n",
    "plt.ylabel('Weight (kg)')\n",
    "plt.show()"
   ]
  },
  {
   "cell_type": "markdown",
   "id": "f318cf32",
   "metadata": {},
   "source": [
    "Phương pháp least square là non-parametric vì nó không quan tâm đến phân bố xác suất của data. Nó có thể áp dụng cho mọi loại data có 2 chiều, và ta không thể sử dụng các inference về slope/intercept. Để làm được điều đó, ta cần có thêm một số giả định:\n",
    "1. Giả sử về mean: mean của y|x là một hàm tuyến tính theo x, tức là $\\mu_{y|x} = \\alpha_0 + \\beta x$ với $\\beta$ là hệ số góc chưa biết và $\\alpha_0$ là intercept.\n",
    "2. Các error có cùng phân phối chuẩn có mean = 0 và độc lập nhau đôi một.\n",
    "\n",
    "Giả sử ta đã tìm được thông tin của đường thẳng hồi quy là $y = A + B x.$ Bây giờ ta xét tiên nghiệm kết hợp cho $\\beta, \\alpha_0$ lần lượt có các phân phối \n",
    "$$N(m_{\\beta}, s_{\\beta^2}), N(m_{\\alpha_0}, s_{\\alpha_0^2}).$$\n",
    "Khi đó, công thức để tính hậu nghiệm của chúng, cũng đều là các phân phối chuẩn, lần lượt sẽ là\n",
    "$$\\frac{1}{s'^2_{\\beta}} = \\frac{1}{s_{\\beta}^2} + \\frac{SS_x}{\\sigma^2} \\text{ và } \\frac{1}{s'^2_{\\alpha_x}} = \\frac{1}{s_{\\alpha_x}^2} + \\frac{n}{\\sigma^2} $$ \n",
    "và\n",
    "$$m'_{\\beta} = s'^2_{\\beta}(\\frac{m_{\\beta}}{s_{\\beta}^2} + \\frac{SS_x \\times B}{\\sigma^2}) \\text{ và } m'_{\\alpha_x} = s'^2_{\\alpha_x}(\\frac{m_{\\alpha_x}}{s_{\\alpha_x}^2} + \\frac{n \\cdot \\overline Y}{\\sigma^2}). $$"
   ]
  },
  {
   "cell_type": "markdown",
   "id": "0cea3351",
   "metadata": {},
   "source": [
    "Trong công thức trên, chú ý $\\sigma^2 = \\frac{\\sum_{i=1}^n (y_i-\\overline{y})^2}{n-2} = \\frac{n}{n-2} (\\overline{y^2} - \\overline{y}^2)$ và $SS_x = \\sum_{i=1}^n (x_i-\\overline{x})^2 = n(\\overline{x^2} - \\overline{x}^2).$"
   ]
  },
  {
   "cell_type": "markdown",
   "id": "8cc759fb",
   "metadata": {},
   "source": [
    "Từ các công thức trên, \n",
    "\n",
    "1. Hãy xác định phân phối hậu nghiệm cho cho $\\beta, \\alpha_0$.\n",
    "2. Ước lượng khoảng tin cậy $90\\%$ cho hệ số gốc có dạng $[\\alpha_1; \\alpha_2]$ và vẽ các đồ thị $$y=\\alpha_0+\\beta x, \\, y=\\alpha_1+\\beta x, \\, y = \\alpha_2 + \\beta x$$ lên trên cùng một hệ trục tọa độ. "
   ]
  },
  {
   "cell_type": "code",
   "execution_count": 164,
   "id": "e958972c",
   "metadata": {},
   "outputs": [],
   "source": [
    "x_mean = X.mean()\n",
    "y_mean = Y.mean()\n",
    "xy_mean = np.mean(X*Y)\n",
    "x2_mean = np.mean(X*x)\n",
    "# for x,y in zip(X,Y):\n",
    "#     tich_mean.extend(x*y)\n",
    "#     x2.extend(x*x)\n",
    "# xy_mean = np.array(tich_mean).mean()\n",
    "# x2_mean = np.array(x2).mean()\n",
    "beta = (xy_mean - x_mean*y_mean)/(x2_mean-x_mean**2)\n",
    "alpha = y_mean - beta*x_mean"
   ]
  },
  {
   "cell_type": "code",
   "execution_count": 165,
   "id": "8d9bf91c",
   "metadata": {},
   "outputs": [
    {
     "data": {
      "text/plain": [
       "(-4456.4991359999985, 0.09502140547016596)"
      ]
     },
     "execution_count": 165,
     "metadata": {},
     "output_type": "execute_result"
    }
   ],
   "source": [
    "SSx =  n*(x2_mean-x_mean**2)\n",
    "y_pred = alpha +beta*X\n",
    "sigma = np.sum((Y-y_pred)**2)/23\n",
    "(SSx,sigma)"
   ]
  },
  {
   "cell_type": "markdown",
   "id": "0d036874",
   "metadata": {},
   "source": [
    "$\\beta\\sim N (1, 0.3^2)$\n",
    "\n",
    "$\\alpha\\sim N (15, 1^2)$"
   ]
  },
  {
   "cell_type": "code",
   "execution_count": 162,
   "id": "dbb4678d",
   "metadata": {},
   "outputs": [
    {
     "data": {
      "text/plain": [
       "(0.02890323108132822, 0.0013926346478379743)"
      ]
     },
     "execution_count": 162,
     "metadata": {},
     "output_type": "execute_result"
    }
   ],
   "source": [
    "s_beta = 0.3**2\n",
    "m_beta = 1\n",
    "s_alpha = 1\n",
    "m_alpha = 15\n",
    "s_beta2 = 1/(1/s_beta + SSx/sigma)\n",
    "s_alpha2 = 1/(1/s_alpha + n/sigma)\n",
    "(s_beta2, s_alpha2)"
   ]
  },
  {
   "cell_type": "code",
   "execution_count": 163,
   "id": "8588b479",
   "metadata": {},
   "outputs": [
    {
     "data": {
      "text/plain": [
       "(1.2034078542115945, 14.221885140917598)"
      ]
     },
     "execution_count": 163,
     "metadata": {},
     "output_type": "execute_result"
    }
   ],
   "source": [
    "m_beta = s_beta2 *(1/s_beta+SSx*beta/sigma)\n",
    "m_alpha = s_alpha2*(m_alpha/s_alpha + n*y_mean/sigma)\n",
    "(m_beta, m_alpha)"
   ]
  },
  {
   "cell_type": "markdown",
   "id": "fcaf6e0e",
   "metadata": {},
   "source": [
    "### Câu 2"
   ]
  },
  {
   "cell_type": "code",
   "execution_count": null,
   "id": "5c9e8673",
   "metadata": {},
   "outputs": [],
   "source": []
  }
 ],
 "metadata": {
  "kernelspec": {
   "display_name": "Python 3 (ipykernel)",
   "language": "python",
   "name": "python3"
  },
  "language_info": {
   "codemirror_mode": {
    "name": "ipython",
    "version": 3
   },
   "file_extension": ".py",
   "mimetype": "text/x-python",
   "name": "python",
   "nbconvert_exporter": "python",
   "pygments_lexer": "ipython3",
   "version": "3.9.7"
  }
 },
 "nbformat": 4,
 "nbformat_minor": 5
}
