{
 "cells": [
  {
   "cell_type": "markdown",
   "id": "9ae044c1",
   "metadata": {},
   "source": [
    "# Phân tích dữ liệu Bayesian 2022. Lab 1.\n",
    "\n",
    "Mục tiêu: ôn tập về công thức Bayes, phân phối lề, xác suất có điều kiện của vector rời rạc, liên tục."
   ]
  },
  {
   "cell_type": "markdown",
   "id": "60e7eb6f",
   "metadata": {},
   "source": [
    "**Bài 1.**\n",
    "\n",
    "- a) Tung một con xúc xắc đồng chất. Gọi $A$ là biến cố mặt thu được là lẻ, $B$ là biến cố mặt thu được không vượt quá $3$. Tính xác suất $P(A|B)$ và $P(B|A).$\n",
    "- b) Tung một con xúc xắc đồng chất $2$ lần. Gọi $X, Y$ là biến ngẫu nhiên chỉ số thu được ở lần $1,2$. Tính xác suất $P((X = 3) \\vee (Y = 3) | X+Y=7).$"
   ]
  },
  {
   "cell_type": "markdown",
   "id": "5748a057",
   "metadata": {},
   "source": [
    "**Bài 2.** Hãy hoàn thành các công thức, tính chất sau đây của các biến cố $A,B,C$\n",
    "- a) $P(\\overline{A}|C) + P(A | C) =$ ...\n",
    "- b) $P(\\emptyset | C) = $ ... và $P(\\Omega | C) = $ ...\n",
    "- c) $P(A + B | C) = P(A|C) + P(B|C)$ nếu ...\n",
    "- d) $P(A \\backslash B | C) = P(A|C) - $ ...\n",
    "- e) $P(A \\cup B | C) = P(A|C)+P(B|C) - $ ...\n",
    "- f) $P(A | C) \\le P(B|C)$ nếu ...\n",
    "- g) $P(A | B) = $ ... nếu $A,B$ xung khắc."
   ]
  },
  {
   "cell_type": "markdown",
   "id": "fd72fa69",
   "metadata": {},
   "source": [
    "**Bài 3.** (Ví dụ về một dạng *counterintuitive*).\n",
    "\n",
    "Một gia đình sinh được hai con thì không gian mẫu của giới tính của chúng sẽ là $$\\Omega = \\{(G,G), (G,B), (B,G), (B,B)\\}.$$ Giả sử tất cả khả năng đều như nhau.\n",
    "- a) Tính xác suất để cả hai đều là nữ, biết rằng đứa con đầu là nữ.\n",
    "- b) Cho biết rằng gia đình có ít nhất một con là nữ, tính xác suất để cả hai đều là nữ.\n",
    "- c) Chọn ngẫu nhiên một người con trong gia đình này và cho biết đó là nữ, tính xác suất để cả hai con đều là nữ. \n",
    "- d) Cho biết rằng nếu một con là nữ, xác suất để nó được đặt tên *Lưu Ly* là $\\alpha$ (với $\\alpha \\approx 0$) và độc lập với tên của đứa con còn lại (nghĩa là có thể tiếp tục dùng tên này); còn nếu nó là nam thì không dùng tên đó. Bây giờ cho biết rằng gia đình này có ít nhất một người con tên là *Lưu Ly*, tính xác suất để cả hai đều là nữ."
   ]
  },
  {
   "cell_type": "markdown",
   "id": "8edc9044",
   "metadata": {},
   "source": [
    "**Bài 4.** (Xác suất có điều kiện cho nhiều biến cố)\n",
    "\n",
    "Ta quy ước ký hiệu $P(C|A,B)$ là xác suất của $C$ xảy ra khi biết $A,B$ đồng thời xảy ra. Ta có thể mở rộng định nghĩa này cho $P(C|A_1,A_2,...,A_k).$ Từ đó, hãy chứng minh công thức sau\n",
    "$$P(A \\cap B \\cap C) = P(A)P(B|A)P(C|A,B).$$\n",
    "Cho biết công thức trong trường hợp tổng quát. Từ đó, hãy giải bài toán sau đây bằng ngôn ngữ xác suất có điều kiện:\n",
    "\n",
    "Một nhà máy có $100$ sản phẩm, trong đó có $5$ cái bị hỏng. Người ta chọn ra lần lượt $3$ sản phẩm, tính xác suất để không có cái nào bị hỏng."
   ]
  },
  {
   "cell_type": "markdown",
   "id": "ce669f6b",
   "metadata": {},
   "source": [
    "**Bài 5.** Trên bàn có ba cái túi mà mỗi cái đựng $100$ viên bi: túi $1$ có $75$ đỏ và $25$ xanh, túi $2$ có $60$ đỏ và $40$ xanh, túi $3$ có $45$ đỏ và $55$ xanh. Chọn ngẫu nhiên một túi và sau đó, chọn ngẫu nhiên từ túi ra một viên bi. \n",
    "- a) Tính xác suất để viên bi đó màu đỏ.\n",
    "- b) Cho biết rằng viên bi được chọn màu đỏ, tính xác suất để túi được chọn là túi $1.$"
   ]
  },
  {
   "cell_type": "markdown",
   "id": "e46487fe",
   "metadata": {},
   "source": [
    "**Bài 6.** Một căn bệnh mà tỷ lệ trong $10000$ thì có $1$ người mắc. Có một phương pháp test để kiểm tra có mắc bệnh hay không với độ chính xác khá cao. Cho biết rằng có hai loại sai phổ biến là:\n",
    "- Xác suất để test ra dương tính, cho biết người đó không mắc bệnh là $2\\%.$\n",
    "- Xác suất để test ra âm tính, cho biết người đó mắc bệnh là $1\\%$.\n",
    "Cho biết một người đi test cho kết quả dương tính, tính xác suất để người đó có bệnh."
   ]
  },
  {
   "cell_type": "markdown",
   "id": "fa566a53",
   "metadata": {},
   "source": [
    "**Bài 7.** Cho các biến cố $A,B,C$ thỏa mãn:\n",
    "- $A,C$ độc lập;\n",
    "- $B,C$ độc lập;\n",
    "- $A,B$ là xung khắc;\n",
    "- $P(A \\cup B) = 2/3$, $P(B \\cup C) = 3/4$ và $P(A \\cup B \\cup C) = 11/12.$\n",
    "\n",
    "Tính $P(A), P(B)$ và $P(C).$"
   ]
  },
  {
   "cell_type": "markdown",
   "id": "b13f4e07",
   "metadata": {},
   "source": [
    "**Bài 7.** (Cặp biến cố độc lập dựa trên một biến cố khác) \n",
    "\n",
    "Ta biết rằng nếu $A,B$ độc lập thì $P(A \\cap B)=P(A)P(B)$ và $P(A|B)=P(A)$. Từ đó với biến cố $C$ có $P(C)>0$ thì $$P(A \\cap B|C) = P(A|C)P(B|C).$$\n",
    "Từ đó, ta có thể chứng minh được $$P(A|B,C)=P(A|C).$$ \n",
    "Hãy giải các bài toán sau đây:\n",
    "\n",
    "a) Một hộp có hai đồng xu: loại đồng chất (có một $H$ và một $T$) và loại giả (có hai mặt $H$). Chọn ngẫu nhiên một đồng xu và tung nó hai lần. Xét các biến cố:\n",
    "- $A$: lần tung đầu tiên được mặt $H$.\n",
    "- $B$: lần tung thứ hai được mặt $H$.\n",
    "- $C$: đồng xu thứ nhất được chọn.\n",
    "\n",
    "Tính các xác suất $P(A|C), P(B|C), P(A \\cap B | C), P(A), P(B)$ và $P(A \\cap B).$\n",
    "\n",
    "b) Cho $C_1, C_2, ..., C_k$ là phân hoạch của không gian mẫu và $A,B$ là hai biến cố. Biết rằng:\n",
    "- Các biến cố $A,B$ là độc lập có điều kiện $C_i$ với mọi $i=1,2,...,k$.\n",
    "- Biến cố $B$ là độc lập với $C_i$ với mọi $i=1,2,...,k.$\n",
    "\n",
    "Chứng minh rằng $A,B$ độc lập."
   ]
  }
 ],
 "metadata": {
  "kernelspec": {
   "display_name": "Python 3",
   "language": "python",
   "name": "python3"
  },
  "language_info": {
   "codemirror_mode": {
    "name": "ipython",
    "version": 3
   },
   "file_extension": ".py",
   "mimetype": "text/x-python",
   "name": "python",
   "nbconvert_exporter": "python",
   "pygments_lexer": "ipython3",
   "version": "3.8.8"
  }
 },
 "nbformat": 4,
 "nbformat_minor": 5
}
