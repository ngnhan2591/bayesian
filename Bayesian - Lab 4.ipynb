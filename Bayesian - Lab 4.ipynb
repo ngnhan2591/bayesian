{
 "cells": [
  {
   "cell_type": "markdown",
   "id": "5e303550",
   "metadata": {},
   "source": [
    "# Phân tích dữ liệu Bayesian 2022. LAB 4.\n",
    "## Ôn thi giữa kỳ."
   ]
  },
  {
   "cell_type": "markdown",
   "id": "eea0a5e9",
   "metadata": {},
   "source": [
    "**Bài 1.** Cho biến ngẫu nhiên $X$ có phân phối chuẩn với $\\mu = 4, \\sigma = -1.$ Tính xác suất có điều kiện $$P(X \\le 0 | X > -3).$$"
   ]
  },
  {
   "cell_type": "markdown",
   "id": "ecdbf6b6",
   "metadata": {},
   "source": [
    "**Bài 2.** Cho biến ngẫu nhiên $X$ có hàm mật độ xác suất là $$f(x) = kx(2-x) \\text{ với } 0 \\le x \\le 2.$$ Tính mode và median của phân phối này."
   ]
  },
  {
   "cell_type": "markdown",
   "id": "06ccce4c",
   "metadata": {},
   "source": [
    "**Bài 3.** Cho $X$ là biến ngẫu nhiên liên tục có hàm mật độ xác suất $$f_X(x) = 2x \\text{ với } 0 \\le x \\le 1.$$\n",
    "- a) Giả sử $Y|X = x \\sim Geometric(x)$. Ước lượng MAP cho $f_X|Y(x|y)$ ứng với $y = 3.$\n",
    "- b) Giả sử $Y|X = x \\sim Binomial(4,x).$ Tìm x để có ML cho biết rằng $y=2.$\n",
    "- c) Giả sử $Y|X = x \\sim Poisson(x).$ Xác định MMSE cho $X$ với $y=3$ (tính toán làm tròn đến $2$ chữ số thập phân)."
   ]
  },
  {
   "cell_type": "markdown",
   "id": "51f6751a",
   "metadata": {},
   "source": [
    "**Bài 4.** Theo kinh nghiệm giảng dạy vài năm của thầy $N$ thì tỷ lệ qua môn Bayesian là $80\\%$ với độ lệch chuẩn $10\\%$ theo phân phối Beta. Trong học kỳ vừa rồi, lớp học có $40$ sinh viên thì có $35$ em qua môn. Hãy dùng phương pháp Bayesian để tìm phân phối hậu nghiệm và tính rủi ro hậu nghiệm cho tình huống này."
   ]
  },
  {
   "cell_type": "markdown",
   "id": "f623e2a4",
   "metadata": {},
   "source": [
    "**Bài 5.** Quan sát tình hình đi học của lớp, thầy $L$ thấy rằng số sinh viên nghỉ học không phép ở lớp Bayesian có trung bình bằng $3$ với độ lệch chuẩn là $2$ theo phân phối Gamma. Quan sát trong $8$ tuần vừa rồi, thầy thấy số sinh viên nghỉ là dãy $$2,0,2,2,2,0,2,3$$ với phân phối Poisson. Hãy dùng phương pháp Bayesian để tìm phân phối hậu nghiệm và tính rủi ro hậu nghiệm cho tình huống này."
   ]
  }
 ],
 "metadata": {
  "kernelspec": {
   "display_name": "Python 3 (ipykernel)",
   "language": "python",
   "name": "python3"
  },
  "language_info": {
   "codemirror_mode": {
    "name": "ipython",
    "version": 3
   },
   "file_extension": ".py",
   "mimetype": "text/x-python",
   "name": "python",
   "nbconvert_exporter": "python",
   "pygments_lexer": "ipython3",
   "version": "3.9.10"
  }
 },
 "nbformat": 4,
 "nbformat_minor": 5
}
